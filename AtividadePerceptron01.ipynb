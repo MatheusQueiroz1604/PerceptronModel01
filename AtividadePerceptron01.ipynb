{
  "nbformat": 4,
  "nbformat_minor": 0,
  "metadata": {
    "colab": {
      "provenance": [],
      "authorship_tag": "ABX9TyNZdmWZXVJoQrYSUrc8Cdzs"
    },
    "kernelspec": {
      "name": "python3",
      "display_name": "Python 3"
    },
    "language_info": {
      "name": "python"
    }
  },
  "cells": [
    {
      "cell_type": "code",
      "execution_count": null,
      "metadata": {
        "id": "7wST3auupw1j"
      },
      "outputs": [],
      "source": [
        "from sklearn.linear_model import Perceptron\n",
        "\n",
        "X = [[0, 0], [0, 1], [1, 0], [1, 1]]\n",
        "\n",
        "Y = [0, 1, 1, 1]\n",
        "\n",
        "modelo = Perceptron()\n",
        "modelo.fit(X, Y)\n",
        "\n",
        "print(\"Previsões:\")\n",
        "testes = [[0,0], [0,1], [1,0], [1,1]]\n",
        "for teste in testes:\n",
        "  previsao = modelo.predict([teste])\n",
        "  print(f\"Nuvens: {teste[0]}, Previsão Chuva: {teste[1]} => Levar Guarda-chuva? {'Sim' if previsao[0] == 1 else 'Não'}\")\n",
        "\n",
        "print()\n",
        "\n",
        "X2 = [[0, 0, 0], [0, 0, 1], [0, 1, 0], [0, 1, 1], [1, 0, 0], [1, 0, 1], [1, 1, 0], [1, 1, 1]]\n",
        "\n",
        "Y2 = [0, 1, 1, 1, 0, 0, 0, 0]\n",
        "\n",
        "modelo.fit(X2, Y2)\n",
        "\n",
        "print(\"Ir ao parque:\")\n",
        "testes = [[0, 0, 0], [0, 0, 1], [0, 1, 0], [0, 1, 1], [1, 0, 0], [1, 0, 1], [1, 1, 0], [1, 1, 1]]\n",
        "for teste in testes:\n",
        "  previsao = modelo.predict([teste])\n",
        "  print(f\"Parque lotado: {teste[0]}, Ensolarado: {teste[1]}, Final de Semana: {teste[2]} => Devo ir ao parque? {'Sim' if previsao[0] == 1 else 'Não'}\")\n",
        "\n",
        "print()\n",
        "\n",
        "X3 = [[1, 1, 1, 0], [1, 1, 0, 1], [1, 0, 1, 1], [0, 1, 0, 0], [1, 1, 1, 1], [0, 0, 1, 0], [1, 0, 0, 1], [1, 0, 0, 0]]\n",
        "\n",
        "Y3 = [0, 1, 0, 1, 1, 0, 0, 0]\n",
        "\n",
        "modelo.fit(X3, Y3)\n",
        "\n",
        "print(\"Comer fora:\")\n",
        "testes = [[1, 1, 1, 0], [1, 1, 0, 1], [1, 0, 1, 1], [0, 1, 0, 0], [1, 1, 1, 1], [0, 0, 1, 0], [1, 0, 0, 1], [1, 0, 0, 0]]\n",
        "for teste in testes:\n",
        "  previsao = modelo.predict([teste])\n",
        "  print(f\"Pagamento Recente: {teste[0]}, Restaurante Aberto: {teste[1]}, Ingredientes em Casa: {teste[2]}, Cansado: {teste[3]} => Devo ir comer fora? {'Sim' if previsao[0] == 1 else 'Não'}\")"
      ]
    }
  ]
}